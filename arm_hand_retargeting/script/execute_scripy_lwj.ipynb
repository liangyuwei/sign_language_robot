{
 "metadata": {
  "language_info": {
   "codemirror_mode": {
    "name": "ipython",
    "version": 3
   },
   "file_extension": ".py",
   "mimetype": "text/x-python",
   "name": "python",
   "nbconvert_exporter": "python",
   "pygments_lexer": "ipython3",
   "version": 3
  },
  "orig_nbformat": 2
 },
 "nbformat": 4,
 "nbformat_minor": 2,
 "cells": [
  {
   "cell_type": "code",
   "execution_count": null,
   "metadata": {},
   "outputs": [],
   "source": [
    "import h5py\n",
    "import sys\n",
    "import os\n",
    "\n",
    "in_h5_filename = \"/home/liangyuwei/sign_language_robot_ws/test_imi_data/zhd/total_mocap_data_YuMi.h5\"\n",
    "out_h5_filename = \"/home/liangyuwei/sign_language_robot_ws/test_imi_data/zhd/train_result.h5\"\n",
    "f = h5py.File(in_h5_filename,\"r\")\n",
    "group_list = f.keys()\n",
    "start = false\n",
    "for group_name in group_list:\n",
    "    if group_name == 'chuangkou':\n",
    "        start = True\n",
    "    if start == True:\n",
    "        command = \"rosrun arm_hand_retargeting yumi_arm_retarget_g2o_similarity -i \"+in_h5_filename+\\\n",
    "            \" -g \"+group_name+\" -o \"+out_h5_filename\n",
    "        os.system(command)"
   ]
  }
 ]
}